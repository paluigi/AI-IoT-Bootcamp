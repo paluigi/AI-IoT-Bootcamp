{
  "nbformat": 4,
  "nbformat_minor": 0,
  "metadata": {
    "colab": {
      "name": "Monkeylearn_results.ipynb",
      "provenance": [],
      "collapsed_sections": [],
      "authorship_tag": "ABX9TyO3Y1KFObEVUpfal6naCLti",
      "include_colab_link": true
    },
    "kernelspec": {
      "name": "python3",
      "display_name": "Python 3"
    }
  },
  "cells": [
    {
      "cell_type": "markdown",
      "metadata": {
        "id": "view-in-github",
        "colab_type": "text"
      },
      "source": [
        "<a href=\"https://colab.research.google.com/github/paluigi/AI-IoT-Bootcamp/blob/master/Monkeylearn_results.ipynb\" target=\"_parent\"><img src=\"https://colab.research.google.com/assets/colab-badge.svg\" alt=\"Open In Colab\"/></a>"
      ]
    },
    {
      "cell_type": "markdown",
      "metadata": {
        "id": "N-bWfTXvxO0t",
        "colab_type": "text"
      },
      "source": [
        "Load Libraries"
      ]
    },
    {
      "cell_type": "code",
      "metadata": {
        "id": "H-ZUqkeFxS6X",
        "colab_type": "code",
        "colab": {}
      },
      "source": [
        "import pandas as pd\n"
      ],
      "execution_count": 2,
      "outputs": []
    },
    {
      "cell_type": "markdown",
      "metadata": {
        "id": "QA1QsqIrxJHI",
        "colab_type": "text"
      },
      "source": [
        "Import the data\n"
      ]
    },
    {
      "cell_type": "code",
      "metadata": {
        "id": "ay1pGVnJxEdu",
        "colab_type": "code",
        "colab": {
          "base_uri": "https://localhost:8080/",
          "height": 139
        },
        "outputId": "f0b71ff5-f65f-4c82-a1c0-05c2eff95b67"
      },
      "source": [
        "!git clone https://github.com/paluigi/AI-IoT-Bootcamp.git"
      ],
      "execution_count": 1,
      "outputs": [
        {
          "output_type": "stream",
          "text": [
            "Cloning into 'AI-IoT-Bootcamp'...\n",
            "remote: Enumerating objects: 43, done.\u001b[K\n",
            "remote: Counting objects: 100% (43/43), done.\u001b[K\n",
            "remote: Compressing objects: 100% (37/37), done.\u001b[K\n",
            "remote: Total 43 (delta 12), reused 24 (delta 4), pack-reused 0\u001b[K\n",
            "Unpacking objects: 100% (43/43), done.\n",
            "Checking out files: 100% (14/14), done.\n"
          ],
          "name": "stdout"
        }
      ]
    },
    {
      "cell_type": "markdown",
      "metadata": {
        "id": "tBAgmnw-xWWc",
        "colab_type": "text"
      },
      "source": [
        "Create dataframe with data\n"
      ]
    },
    {
      "cell_type": "code",
      "metadata": {
        "id": "3E0Qnv8AxMnu",
        "colab_type": "code",
        "colab": {
          "base_uri": "https://localhost:8080/",
          "height": 363
        },
        "outputId": "03ad4a5b-4fbd-43d5-bba0-9ac132a11297"
      },
      "source": [
        "df = pd.read_csv(\"/content/AI-IoT-Bootcamp/datasets/Monkeylearn/Results of different frameworks - Drug Test.csv\")\n",
        "df.head()"
      ],
      "execution_count": 3,
      "outputs": [
        {
          "output_type": "execute_result",
          "data": {
            "text/html": [
              "<div>\n",
              "<style scoped>\n",
              "    .dataframe tbody tr th:only-of-type {\n",
              "        vertical-align: middle;\n",
              "    }\n",
              "\n",
              "    .dataframe tbody tr th {\n",
              "        vertical-align: top;\n",
              "    }\n",
              "\n",
              "    .dataframe thead th {\n",
              "        text-align: right;\n",
              "    }\n",
              "</style>\n",
              "<table border=\"1\" class=\"dataframe\">\n",
              "  <thead>\n",
              "    <tr style=\"text-align: right;\">\n",
              "      <th></th>\n",
              "      <th>Unnamed: 0</th>\n",
              "      <th>Cross-Domain Sentiment Analysis</th>\n",
              "      <th>Twitter Sentiment Analysis</th>\n",
              "      <th>Product Sentiment Analysis</th>\n",
              "      <th>Hotel Sentiment</th>\n",
              "      <th>Restaurant Sentiment Analysis</th>\n",
              "      <th>Real Result</th>\n",
              "    </tr>\n",
              "  </thead>\n",
              "  <tbody>\n",
              "    <tr>\n",
              "      <th>0</th>\n",
              "      <td>\"I'm deciding to comment because I read so man...</td>\n",
              "      <td>Positive 0.835</td>\n",
              "      <td>negative 0.926</td>\n",
              "      <td>Positive 0.577</td>\n",
              "      <td>Good 0.195</td>\n",
              "      <td>Bad 0.562</td>\n",
              "      <td>9</td>\n",
              "    </tr>\n",
              "    <tr>\n",
              "      <th>1</th>\n",
              "      <td>\"Like the other users I had absolutely no sex ...</td>\n",
              "      <td>Negative 0.732</td>\n",
              "      <td>negative 0.72</td>\n",
              "      <td>Negative 0.544</td>\n",
              "      <td>Good 0.032</td>\n",
              "      <td>Bad 0.969</td>\n",
              "      <td>3</td>\n",
              "    </tr>\n",
              "    <tr>\n",
              "      <th>2</th>\n",
              "      <td>\"Have been prescribed high dose of mirtazapine...</td>\n",
              "      <td>Neutral 0.438</td>\n",
              "      <td>negative 0.721</td>\n",
              "      <td>Positive 0.649</td>\n",
              "      <td>Good 0.575</td>\n",
              "      <td>Bad 0.608</td>\n",
              "      <td>8</td>\n",
              "    </tr>\n",
              "    <tr>\n",
              "      <th>3</th>\n",
              "      <td>\"39/ no kids. I have always had issues with ta...</td>\n",
              "      <td>Neutral 0.568</td>\n",
              "      <td>negative 0.613</td>\n",
              "      <td>Positive 0.696</td>\n",
              "      <td>Good 0.15</td>\n",
              "      <td>Bad 0.755</td>\n",
              "      <td>7</td>\n",
              "    </tr>\n",
              "    <tr>\n",
              "      <th>4</th>\n",
              "      <td>\"Took it for a few days but could not stay awa...</td>\n",
              "      <td>Negative 0.991</td>\n",
              "      <td>negative 0.679</td>\n",
              "      <td>Negative 0.605</td>\n",
              "      <td>Bad 0.28</td>\n",
              "      <td>Bad 0.789</td>\n",
              "      <td>1</td>\n",
              "    </tr>\n",
              "  </tbody>\n",
              "</table>\n",
              "</div>"
            ],
            "text/plain": [
              "                                          Unnamed: 0  ... Real Result\n",
              "0  \"I'm deciding to comment because I read so man...  ...           9\n",
              "1  \"Like the other users I had absolutely no sex ...  ...           3\n",
              "2  \"Have been prescribed high dose of mirtazapine...  ...           8\n",
              "3  \"39/ no kids. I have always had issues with ta...  ...           7\n",
              "4  \"Took it for a few days but could not stay awa...  ...           1\n",
              "\n",
              "[5 rows x 7 columns]"
            ]
          },
          "metadata": {
            "tags": []
          },
          "execution_count": 3
        }
      ]
    }
  ]
}